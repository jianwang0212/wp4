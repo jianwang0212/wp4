{
 "cells": [
  {
   "cell_type": "code",
   "execution_count": 1,
   "metadata": {},
   "outputs": [],
   "source": [
    "import pandas as pd\n",
    "df = pd.read_excel('oxfordshire_lep_with_text.xlsx', sheet_name = 'Construction 2019')\n",
    "df = df.dropna(subset=['JobText'])\n",
    "df = df[['JobID','JobText']]\n",
    "\n"
   ]
  },
  {
   "cell_type": "code",
   "execution_count": null,
   "metadata": {},
   "outputs": [],
   "source": []
  },
  {
   "cell_type": "code",
   "execution_count": null,
   "metadata": {},
   "outputs": [],
   "source": []
  },
  {
   "cell_type": "code",
   "execution_count": null,
   "metadata": {},
   "outputs": [],
   "source": []
  },
  {
   "cell_type": "code",
   "execution_count": null,
   "metadata": {},
   "outputs": [],
   "source": [
    "df=df.set_index('JobID').T.to_dict('list')"
   ]
  },
  {
   "cell_type": "code",
   "execution_count": 2,
   "metadata": {},
   "outputs": [],
   "source": [
    "list = df.values.tolist()"
   ]
  },
  {
   "cell_type": "code",
   "execution_count": 9,
   "metadata": {},
   "outputs": [],
   "source": [
    "list1 =[]"
   ]
  },
  {
   "cell_type": "code",
   "execution_count": null,
   "metadata": {},
   "outputs": [],
   "source": []
  },
  {
   "cell_type": "code",
   "execution_count": 11,
   "metadata": {},
   "outputs": [
    {
     "name": "stdout",
     "output_type": "stream",
     "text": [
      "770702819\n",
      "770703036\n",
      "769780486\n",
      "769780646\n",
      "775266399\n"
     ]
    }
   ],
   "source": [
    "for i in list:\n",
    "    print i[0]\n",
    "    element = {\n",
    "        'JobID': i[0],\n",
    "        'JobText': i[1]\n",
    "    }\n",
    "    list1.append(element)"
   ]
  },
  {
   "cell_type": "code",
   "execution_count": 12,
   "metadata": {},
   "outputs": [
    {
     "data": {
      "text/plain": [
       "[{'JobID': 770702819,\n",
       "  'JobText': u'Company \\n \\n Finda Recruitment Ltd \\n \\n - \\n  \\n \\n Location Abingdon, England \\n \\n Description \\n \\nAre you an experienced Plumber, Plumbing engineer or Maintenance plumber looking for a new challenge working for a well-established and recognised plumbing company? If yes, DKS & Sons (Dyno Plumbing) are looking for experienced plumbers with an NVQ Level 2 or above in plumbing or heating to join their expanding team covering Oxfordshire, Aylesbury, Buckingham and Brackley. [] You will be carrying out all types of plumbing work, including reactive plumbing, installing cylinders, tracing and fixing leaks, cold water storage tanks and general maintenance. You will be provided with the necessary training...\\n \\n \\n \\n2 days ago \\n \\nfrom: neuvoo.co.uk'},\n",
       " {'JobID': 770703036,\n",
       "  'JobText': u'Company \\n \\n Finda Recruitment Ltd \\n \\n - \\n  \\n \\n Location Abingdon, England \\n \\n Description \\n \\nAre you prepared to study and work at the same time to achieve an industry recognised qualification in plumbing? [] If so, DKS & Son Limited are looking for a Plumbing Apprentice to join their dedicated team based at their Abingdon office covering the Oxfordshire, Aylesbury, Buckingham and Brackley areas. This is a fantastic opportunity to kick start your career as a plumbing engineer with a reputable company alongside supportive colleagues. During your apprenticeship you Ill be assisting plumbers in day to day jobs carrying out all types of plumbing work such as installing, fixing and general...\\n \\n \\n \\n2 days ago \\n \\nfrom: neuvoo.co.uk'},\n",
       " {'JobID': 769780486,\n",
       "  'JobText': u'Company \\n \\n Facilities Management & Building Services \\n \\n - \\n  \\n \\n Location Carterton, Oxfordshire, South East, UK \\n Job Type Permanent \\n \\n Description \\n \\nReception/Administration  Oxfordshire Our client is an expert in all aspects of Mechanical & Building Services. Specialists in heating plumbing ventilation air conditioning & BMS installation. C ommitted to the high-quality completion of all projects ensuring they deliver a complete mechanical solution to all partners and clients and facilitate that with superior standards of installation. D...\\n \\n \\n \\nYesterday \\n \\nfrom: totaljobs.com'},\n",
       " {'JobID': 769780646,\n",
       "  'JobText': u'Company \\n \\n Facilities Management & Building Services \\n \\n - \\n  \\n \\n Location Carterton, Oxfordshire, South East, UK \\n Job Type Permanent \\n \\n Description \\n \\nProject Manager  Oxfordshire Our client is an expert in all aspects of Mechanical & Building Services. Specialists in heating plumbing ventilation air conditioning & BMS installation. C ommitted to the high-quality completion of all projects ensuring they deliver a complete mechanical solution to all partners and clients and facilitate that with superior standards of installation. Descriptio...\\n \\n \\n \\nYesterday \\n \\nfrom: totaljobs.com'},\n",
       " {'JobID': 775266399,\n",
       "  'JobText': u\"Plumber job in Oxford - Oxfordshire, South East, UK / United Kingdom | Jobs in Construction\\nFinda Recruitment Ltd\\n\\nJob Type :  Permanent\\nJob Location :  Oxford (OX4) - Oxfordshire, South East, United Kingdom\\nJob Salary :  Salary ?26,000 - Earn up to ?40K with bonus / shift allowances + Vehicle\\nMain Industry :  Construction\\nAdvertiser :  Finda Recruitment Ltd\\nPosted On :  29 July 2019 28/08/2019\\nJob Description :  Plumber - Oxford Area - DKS &amp; Son Limited (Dyno Plumbing)\\n\\nSalary ?26,000 - Earn up to ?40K with bonus / shift allowances + Vehicle\\n\\nAre you an experienced Plumber, Plumbing engineer or Maintenance plumber looking for a new challenge working for a well-established and recognised plumbing company?\\n\\nIf yes, DKS &amp; Sons (Dyno Plumbing) are looking for experienced plumbers with an NVQ Level 2 or above in plumbing or heating to join their expanding team covering Oxfordshire, Abingdon, Aylesbury, Buckingham and Brackley.\\n\\nAbout You\\n\\n-Minimum of NVQ Level 2 plumbing or heating qualification\\n\\n-Experienced in general plumbing and heating maintenance tasks\\n\\n-Experience with bathroom installations, power flushing and cylinder upgrades\\n\\n-Excellent communication skills\\n\\n-Demonstrates professionalism and a friendly manner\\n\\n-Full UK Driving License\\n\\n-Reliability for an on-call rota\\n\\nThe Job\\n\\n-You will be carrying out all types of plumbing work, including reactive plumbing, installing cylinders, tracing and fixing leaks, cold water storage tanks and general maintenance.\\n\\n-You will be provided with the necessary training to enhance your skills and give you the expertise needed to deliver excellent services to the customer.\\n\\nThe Company\\n\\nDKS &amp; Son Limited have been trading for over 9 years as part of Dyno Plumbing, who's parent company is British Gas. Dyno is a plumbing and drainage business made up of over 60 franchisee businesses. Having over 50 years' experience, Dyno is currently the UK's largest plumbing force with over a thousand skilled engineers and local support teams located all over the country.\\n\\nWe pride ourselves in offering a high level of customer service and expect our workforce to show the same enthusiasm to all our customers.\\n\\nThe Process\\n\\nIf you're a Plumber with a hardworking and pro-active mind-set looking to join a secure employer, please apply today.\\n\\nFollowing your application if we can see the required skills and experience from your CV you will be contacted to answer a few basic questions.\\n\\nAfter this and if you're still suitable we will invite you to a face to face interview.\\n\\nIf successful at interview you will be offered the role to start as soon as possible.\\n\\nPackage description\\n\\nPlumber - Oxford Area - DKS &amp; Son Limited (Dyno Plumbing)\\n\\nSalary ?26,000 - Earn up to ?40K with bonus / shift allowances + Vehicle\\n\\n-\"}]"
      ]
     },
     "execution_count": 12,
     "metadata": {},
     "output_type": "execute_result"
    }
   ],
   "source": [
    "list1"
   ]
  },
  {
   "cell_type": "code",
   "execution_count": null,
   "metadata": {},
   "outputs": [],
   "source": []
  },
  {
   "cell_type": "code",
   "execution_count": 3,
   "metadata": {},
   "outputs": [],
   "source": [
    "dict1 = dict(list)"
   ]
  },
  {
   "cell_type": "code",
   "execution_count": null,
   "metadata": {},
   "outputs": [],
   "source": []
  },
  {
   "cell_type": "code",
   "execution_count": 15,
   "metadata": {},
   "outputs": [],
   "source": [
    "df = pd.read_excel('oxfordshire_lep_with_text.xlsx', sheet_name = 'Construction 2019')\n"
   ]
  },
  {
   "cell_type": "code",
   "execution_count": 19,
   "metadata": {},
   "outputs": [
    {
     "data": {
      "text/plain": [
       "Unnamed: 0                                                                  224\n",
       "CanonCity                                                              Abingdon\n",
       "Region                                                               South East\n",
       "Nation                                                                  England\n",
       "CleanJobTitle                                                           Plumber\n",
       "JobDate                                                              2019-05-07\n",
       "JobDomain                                                    www.jobisjob.co.uk\n",
       "JobID                                                                 770702819\n",
       "JobText                       Company \\n \\n Finda Recruitment Ltd \\n \\n - \\n...\n",
       "JobURL                        https://www.jobisjob.co.uk/abingdon-england/fi...\n",
       "PostingHTML                                                                 NaN\n",
       "Latitude                                                                51.7118\n",
       "Longitude                                                               -1.2892\n",
       "CanonCounty                                                         Oxfordshire\n",
       "CanonEmployer                                                               NaN\n",
       "CanonJobTitle                                                           Plumber\n",
       "CanonIntermediary                                                           NaN\n",
       "Email                                                                       NaN\n",
       "JobReferenceId                                                              NaN\n",
       "Source                                                         Job intermediary\n",
       "Telephone                                                                   NaN\n",
       "CanonCertification                                                          NaN\n",
       "CanonSkillClusters            Maintenance, Repair, and Installation: Plumbin...\n",
       "LocalAuthorityDistrict                                      Vale of White Horse\n",
       "LocalEnterprisePartnership                                      Oxfordshire LEP\n",
       "TTWA                                                                     Oxford\n",
       "SOCCode                                                                    5314\n",
       "CanonSkills                                                        ['Plumbing']\n",
       "IsDuplicate                                                               False\n",
       "IsDuplicateOf                                                               NaN\n",
       "MaxNQFLevel                                                                 NaN\n",
       "MinNQFLevel                                                                   2\n",
       "PreferredNQFLevels                                                          NaN\n",
       "RequiredNQFLevels                                                             2\n",
       "StandardMajor                                       Plumbing Technology/Plumber\n",
       "MaxExperience                                                               NaN\n",
       "MinExperience                                                               NaN\n",
       "SICCode                                                                   43.22\n",
       "MaxAnnualSalary                                                             NaN\n",
       "MaxHourlySalary                                                             NaN\n",
       "MinAnnualSalary                                                             NaN\n",
       "MinHourlySalary                                                             NaN\n",
       "BGTOcc                                                                 47215202\n",
       "WorkFromHome                                                              False\n",
       "Name: 0, dtype: object"
      ]
     },
     "execution_count": 19,
     "metadata": {},
     "output_type": "execute_result"
    }
   ],
   "source": [
    "df.iloc[0]"
   ]
  }
 ],
 "metadata": {
  "kernelspec": {
   "display_name": "Python 2",
   "language": "python",
   "name": "python2"
  },
  "language_info": {
   "codemirror_mode": {
    "name": "ipython",
    "version": 2
   },
   "file_extension": ".py",
   "mimetype": "text/x-python",
   "name": "python",
   "nbconvert_exporter": "python",
   "pygments_lexer": "ipython2",
   "version": "2.7.16"
  }
 },
 "nbformat": 4,
 "nbformat_minor": 2
}
